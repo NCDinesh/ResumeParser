{
 "cells": [
  {
   "cell_type": "code",
   "execution_count": null,
   "metadata": {
    "id": "xBy9YEqanPq2"
   },
   "outputs": [],
   "source": [
    "# from google.colab import drive"
   ]
  },
  {
   "cell_type": "code",
   "execution_count": null,
   "metadata": {
    "colab": {
     "base_uri": "https://localhost:8080/"
    },
    "id": "PcWVu-cJnRnO",
    "outputId": "8c1828f2-21c1-44bb-b756-5d3eb2efe5ca"
   },
   "outputs": [
    {
     "name": "stdout",
     "output_type": "stream",
     "text": [
      "Drive already mounted at /content/drive; to attempt to forcibly remount, call drive.mount(\"/content/drive\", force_remount=True).\n"
     ]
    }
   ],
   "source": [
    "# drive.mount('/content/drive')"
   ]
  },
  {
   "cell_type": "code",
   "execution_count": 1,
   "metadata": {
    "colab": {
     "base_uri": "https://localhost:8080/"
    },
    "id": "JDUqhCn3mTTa",
    "outputId": "c29a6303-1f00-4830-8f99-737c82cfd28a"
   },
   "outputs": [
    {
     "name": "stdout",
     "output_type": "stream",
     "text": [
      "Requirement already satisfied: spacy in c:\\users\\deene\\appdata\\local\\programs\\python\\python311\\lib\\site-packages (3.7.2)\n",
      "Requirement already satisfied: spacy-legacy<3.1.0,>=3.0.11 in c:\\users\\deene\\appdata\\local\\programs\\python\\python311\\lib\\site-packages (from spacy) (3.0.12)\n",
      "Requirement already satisfied: spacy-loggers<2.0.0,>=1.0.0 in c:\\users\\deene\\appdata\\local\\programs\\python\\python311\\lib\\site-packages (from spacy) (1.0.5)\n",
      "Requirement already satisfied: murmurhash<1.1.0,>=0.28.0 in c:\\users\\deene\\appdata\\local\\programs\\python\\python311\\lib\\site-packages (from spacy) (1.0.10)\n",
      "Requirement already satisfied: cymem<2.1.0,>=2.0.2 in c:\\users\\deene\\appdata\\local\\programs\\python\\python311\\lib\\site-packages (from spacy) (2.0.8)\n",
      "Requirement already satisfied: preshed<3.1.0,>=3.0.2 in c:\\users\\deene\\appdata\\local\\programs\\python\\python311\\lib\\site-packages (from spacy) (3.0.9)\n",
      "Requirement already satisfied: thinc<8.3.0,>=8.1.8 in c:\\users\\deene\\appdata\\local\\programs\\python\\python311\\lib\\site-packages (from spacy) (8.1.12)\n",
      "Requirement already satisfied: wasabi<1.2.0,>=0.9.1 in c:\\users\\deene\\appdata\\local\\programs\\python\\python311\\lib\\site-packages (from spacy) (1.1.2)\n",
      "Requirement already satisfied: srsly<3.0.0,>=2.4.3 in c:\\users\\deene\\appdata\\local\\programs\\python\\python311\\lib\\site-packages (from spacy) (2.4.8)\n",
      "Requirement already satisfied: catalogue<2.1.0,>=2.0.6 in c:\\users\\deene\\appdata\\local\\programs\\python\\python311\\lib\\site-packages (from spacy) (2.0.10)\n",
      "Requirement already satisfied: weasel<0.4.0,>=0.1.0 in c:\\users\\deene\\appdata\\local\\programs\\python\\python311\\lib\\site-packages (from spacy) (0.3.4)\n",
      "Requirement already satisfied: typer<0.10.0,>=0.3.0 in c:\\users\\deene\\appdata\\local\\programs\\python\\python311\\lib\\site-packages (from spacy) (0.7.0)\n",
      "Requirement already satisfied: smart-open<7.0.0,>=5.2.1 in c:\\users\\deene\\appdata\\local\\programs\\python\\python311\\lib\\site-packages (from spacy) (6.4.0)\n",
      "Requirement already satisfied: tqdm<5.0.0,>=4.38.0 in c:\\users\\deene\\appdata\\local\\programs\\python\\python311\\lib\\site-packages (from spacy) (4.66.1)\n",
      "Requirement already satisfied: requests<3.0.0,>=2.13.0 in c:\\users\\deene\\appdata\\local\\programs\\python\\python311\\lib\\site-packages (from spacy) (2.31.0)\n",
      "Requirement already satisfied: pydantic!=1.8,!=1.8.1,<3.0.0,>=1.7.4 in c:\\users\\deene\\appdata\\local\\programs\\python\\python311\\lib\\site-packages (from spacy) (1.10.13)\n",
      "Requirement already satisfied: jinja2 in c:\\users\\deene\\appdata\\local\\programs\\python\\python311\\lib\\site-packages (from spacy) (3.1.2)\n",
      "Requirement already satisfied: setuptools in c:\\users\\deene\\appdata\\local\\programs\\python\\python311\\lib\\site-packages (from spacy) (65.5.0)\n",
      "Requirement already satisfied: packaging>=20.0 in c:\\users\\deene\\appdata\\local\\programs\\python\\python311\\lib\\site-packages (from spacy) (23.2)\n",
      "Requirement already satisfied: langcodes<4.0.0,>=3.2.0 in c:\\users\\deene\\appdata\\local\\programs\\python\\python311\\lib\\site-packages (from spacy) (3.3.0)\n",
      "Requirement already satisfied: numpy>=1.19.0 in c:\\users\\deene\\appdata\\local\\programs\\python\\python311\\lib\\site-packages (from spacy) (1.26.2)\n",
      "Requirement already satisfied: typing-extensions>=4.2.0 in c:\\users\\deene\\appdata\\local\\programs\\python\\python311\\lib\\site-packages (from pydantic!=1.8,!=1.8.1,<3.0.0,>=1.7.4->spacy) (4.9.0)\n",
      "Requirement already satisfied: charset-normalizer<4,>=2 in c:\\users\\deene\\appdata\\local\\programs\\python\\python311\\lib\\site-packages (from requests<3.0.0,>=2.13.0->spacy) (3.3.2)\n",
      "Requirement already satisfied: idna<4,>=2.5 in c:\\users\\deene\\appdata\\local\\programs\\python\\python311\\lib\\site-packages (from requests<3.0.0,>=2.13.0->spacy) (3.6)\n",
      "Requirement already satisfied: urllib3<3,>=1.21.1 in c:\\users\\deene\\appdata\\local\\programs\\python\\python311\\lib\\site-packages (from requests<3.0.0,>=2.13.0->spacy) (2.1.0)\n",
      "Requirement already satisfied: certifi>=2017.4.17 in c:\\users\\deene\\appdata\\local\\programs\\python\\python311\\lib\\site-packages (from requests<3.0.0,>=2.13.0->spacy) (2023.11.17)\n",
      "Requirement already satisfied: blis<0.8.0,>=0.7.8 in c:\\users\\deene\\appdata\\local\\programs\\python\\python311\\lib\\site-packages (from thinc<8.3.0,>=8.1.8->spacy) (0.7.11)\n",
      "Requirement already satisfied: confection<1.0.0,>=0.0.1 in c:\\users\\deene\\appdata\\local\\programs\\python\\python311\\lib\\site-packages (from thinc<8.3.0,>=8.1.8->spacy) (0.1.4)\n",
      "Requirement already satisfied: colorama in c:\\users\\deene\\appdata\\local\\programs\\python\\python311\\lib\\site-packages (from tqdm<5.0.0,>=4.38.0->spacy) (0.4.6)\n",
      "Requirement already satisfied: click<9.0.0,>=7.1.1 in c:\\users\\deene\\appdata\\local\\programs\\python\\python311\\lib\\site-packages (from typer<0.10.0,>=0.3.0->spacy) (8.1.3)\n",
      "Requirement already satisfied: cloudpathlib<0.17.0,>=0.7.0 in c:\\users\\deene\\appdata\\local\\programs\\python\\python311\\lib\\site-packages (from weasel<0.4.0,>=0.1.0->spacy) (0.16.0)\n",
      "Requirement already satisfied: MarkupSafe>=2.0 in c:\\users\\deene\\appdata\\local\\programs\\python\\python311\\lib\\site-packages (from jinja2->spacy) (2.1.1)\n",
      "Requirement already satisfied: spacy_transformers in c:\\users\\deene\\appdata\\local\\programs\\python\\python311\\lib\\site-packages (1.2.5)\n",
      "Requirement already satisfied: spacy<4.0.0,>=3.5.0 in c:\\users\\deene\\appdata\\local\\programs\\python\\python311\\lib\\site-packages (from spacy_transformers) (3.7.2)\n",
      "Requirement already satisfied: numpy>=1.15.0 in c:\\users\\deene\\appdata\\local\\programs\\python\\python311\\lib\\site-packages (from spacy_transformers) (1.26.2)\n",
      "Requirement already satisfied: transformers<4.31.0,>=3.4.0 in c:\\users\\deene\\appdata\\local\\programs\\python\\python311\\lib\\site-packages (from spacy_transformers) (4.30.2)\n",
      "Requirement already satisfied: torch>=1.8.0 in c:\\users\\deene\\appdata\\local\\programs\\python\\python311\\lib\\site-packages (from spacy_transformers) (2.1.2)\n",
      "Requirement already satisfied: srsly<3.0.0,>=2.4.0 in c:\\users\\deene\\appdata\\local\\programs\\python\\python311\\lib\\site-packages (from spacy_transformers) (2.4.8)\n",
      "Requirement already satisfied: spacy-alignments<1.0.0,>=0.7.2 in c:\\users\\deene\\appdata\\local\\programs\\python\\python311\\lib\\site-packages (from spacy_transformers) (0.9.1)\n",
      "Requirement already satisfied: spacy-legacy<3.1.0,>=3.0.11 in c:\\users\\deene\\appdata\\local\\programs\\python\\python311\\lib\\site-packages (from spacy<4.0.0,>=3.5.0->spacy_transformers) (3.0.12)\n",
      "Requirement already satisfied: spacy-loggers<2.0.0,>=1.0.0 in c:\\users\\deene\\appdata\\local\\programs\\python\\python311\\lib\\site-packages (from spacy<4.0.0,>=3.5.0->spacy_transformers) (1.0.5)\n",
      "Requirement already satisfied: murmurhash<1.1.0,>=0.28.0 in c:\\users\\deene\\appdata\\local\\programs\\python\\python311\\lib\\site-packages (from spacy<4.0.0,>=3.5.0->spacy_transformers) (1.0.10)\n",
      "Requirement already satisfied: cymem<2.1.0,>=2.0.2 in c:\\users\\deene\\appdata\\local\\programs\\python\\python311\\lib\\site-packages (from spacy<4.0.0,>=3.5.0->spacy_transformers) (2.0.8)\n",
      "Requirement already satisfied: preshed<3.1.0,>=3.0.2 in c:\\users\\deene\\appdata\\local\\programs\\python\\python311\\lib\\site-packages (from spacy<4.0.0,>=3.5.0->spacy_transformers) (3.0.9)\n",
      "Requirement already satisfied: thinc<8.3.0,>=8.1.8 in c:\\users\\deene\\appdata\\local\\programs\\python\\python311\\lib\\site-packages (from spacy<4.0.0,>=3.5.0->spacy_transformers) (8.1.12)\n",
      "Requirement already satisfied: wasabi<1.2.0,>=0.9.1 in c:\\users\\deene\\appdata\\local\\programs\\python\\python311\\lib\\site-packages (from spacy<4.0.0,>=3.5.0->spacy_transformers) (1.1.2)\n",
      "Requirement already satisfied: catalogue<2.1.0,>=2.0.6 in c:\\users\\deene\\appdata\\local\\programs\\python\\python311\\lib\\site-packages (from spacy<4.0.0,>=3.5.0->spacy_transformers) (2.0.10)\n",
      "Requirement already satisfied: weasel<0.4.0,>=0.1.0 in c:\\users\\deene\\appdata\\local\\programs\\python\\python311\\lib\\site-packages (from spacy<4.0.0,>=3.5.0->spacy_transformers) (0.3.4)\n",
      "Requirement already satisfied: typer<0.10.0,>=0.3.0 in c:\\users\\deene\\appdata\\local\\programs\\python\\python311\\lib\\site-packages (from spacy<4.0.0,>=3.5.0->spacy_transformers) (0.7.0)\n",
      "Requirement already satisfied: smart-open<7.0.0,>=5.2.1 in c:\\users\\deene\\appdata\\local\\programs\\python\\python311\\lib\\site-packages (from spacy<4.0.0,>=3.5.0->spacy_transformers) (6.4.0)\n",
      "Requirement already satisfied: tqdm<5.0.0,>=4.38.0 in c:\\users\\deene\\appdata\\local\\programs\\python\\python311\\lib\\site-packages (from spacy<4.0.0,>=3.5.0->spacy_transformers) (4.66.1)\n",
      "Requirement already satisfied: requests<3.0.0,>=2.13.0 in c:\\users\\deene\\appdata\\local\\programs\\python\\python311\\lib\\site-packages (from spacy<4.0.0,>=3.5.0->spacy_transformers) (2.31.0)\n",
      "Requirement already satisfied: pydantic!=1.8,!=1.8.1,<3.0.0,>=1.7.4 in c:\\users\\deene\\appdata\\local\\programs\\python\\python311\\lib\\site-packages (from spacy<4.0.0,>=3.5.0->spacy_transformers) (1.10.13)\n",
      "Requirement already satisfied: jinja2 in c:\\users\\deene\\appdata\\local\\programs\\python\\python311\\lib\\site-packages (from spacy<4.0.0,>=3.5.0->spacy_transformers) (3.1.2)\n",
      "Requirement already satisfied: setuptools in c:\\users\\deene\\appdata\\local\\programs\\python\\python311\\lib\\site-packages (from spacy<4.0.0,>=3.5.0->spacy_transformers) (65.5.0)\n",
      "Requirement already satisfied: packaging>=20.0 in c:\\users\\deene\\appdata\\local\\programs\\python\\python311\\lib\\site-packages (from spacy<4.0.0,>=3.5.0->spacy_transformers) (23.2)\n",
      "Requirement already satisfied: langcodes<4.0.0,>=3.2.0 in c:\\users\\deene\\appdata\\local\\programs\\python\\python311\\lib\\site-packages (from spacy<4.0.0,>=3.5.0->spacy_transformers) (3.3.0)\n",
      "Requirement already satisfied: filelock in c:\\users\\deene\\appdata\\local\\programs\\python\\python311\\lib\\site-packages (from torch>=1.8.0->spacy_transformers) (3.13.1)\n",
      "Requirement already satisfied: typing-extensions in c:\\users\\deene\\appdata\\local\\programs\\python\\python311\\lib\\site-packages (from torch>=1.8.0->spacy_transformers) (4.9.0)\n",
      "Requirement already satisfied: sympy in c:\\users\\deene\\appdata\\local\\programs\\python\\python311\\lib\\site-packages (from torch>=1.8.0->spacy_transformers) (1.12)\n",
      "Requirement already satisfied: networkx in c:\\users\\deene\\appdata\\local\\programs\\python\\python311\\lib\\site-packages (from torch>=1.8.0->spacy_transformers) (3.2.1)\n",
      "Requirement already satisfied: fsspec in c:\\users\\deene\\appdata\\local\\programs\\python\\python311\\lib\\site-packages (from torch>=1.8.0->spacy_transformers) (2023.12.2)\n",
      "Requirement already satisfied: huggingface-hub<1.0,>=0.14.1 in c:\\users\\deene\\appdata\\local\\programs\\python\\python311\\lib\\site-packages (from transformers<4.31.0,>=3.4.0->spacy_transformers) (0.20.1)\n",
      "Requirement already satisfied: pyyaml>=5.1 in c:\\users\\deene\\appdata\\local\\programs\\python\\python311\\lib\\site-packages (from transformers<4.31.0,>=3.4.0->spacy_transformers) (6.0.1)\n",
      "Requirement already satisfied: regex!=2019.12.17 in c:\\users\\deene\\appdata\\local\\programs\\python\\python311\\lib\\site-packages (from transformers<4.31.0,>=3.4.0->spacy_transformers) (2023.12.25)\n",
      "Requirement already satisfied: tokenizers!=0.11.3,<0.14,>=0.11.1 in c:\\users\\deene\\appdata\\local\\programs\\python\\python311\\lib\\site-packages (from transformers<4.31.0,>=3.4.0->spacy_transformers) (0.13.3)\n",
      "Requirement already satisfied: safetensors>=0.3.1 in c:\\users\\deene\\appdata\\local\\programs\\python\\python311\\lib\\site-packages (from transformers<4.31.0,>=3.4.0->spacy_transformers) (0.4.1)\n",
      "Requirement already satisfied: charset-normalizer<4,>=2 in c:\\users\\deene\\appdata\\local\\programs\\python\\python311\\lib\\site-packages (from requests<3.0.0,>=2.13.0->spacy<4.0.0,>=3.5.0->spacy_transformers) (3.3.2)\n",
      "Requirement already satisfied: idna<4,>=2.5 in c:\\users\\deene\\appdata\\local\\programs\\python\\python311\\lib\\site-packages (from requests<3.0.0,>=2.13.0->spacy<4.0.0,>=3.5.0->spacy_transformers) (3.6)\n",
      "Requirement already satisfied: urllib3<3,>=1.21.1 in c:\\users\\deene\\appdata\\local\\programs\\python\\python311\\lib\\site-packages (from requests<3.0.0,>=2.13.0->spacy<4.0.0,>=3.5.0->spacy_transformers) (2.1.0)\n",
      "Requirement already satisfied: certifi>=2017.4.17 in c:\\users\\deene\\appdata\\local\\programs\\python\\python311\\lib\\site-packages (from requests<3.0.0,>=2.13.0->spacy<4.0.0,>=3.5.0->spacy_transformers) (2023.11.17)\n",
      "Requirement already satisfied: blis<0.8.0,>=0.7.8 in c:\\users\\deene\\appdata\\local\\programs\\python\\python311\\lib\\site-packages (from thinc<8.3.0,>=8.1.8->spacy<4.0.0,>=3.5.0->spacy_transformers) (0.7.11)\n",
      "Requirement already satisfied: confection<1.0.0,>=0.0.1 in c:\\users\\deene\\appdata\\local\\programs\\python\\python311\\lib\\site-packages (from thinc<8.3.0,>=8.1.8->spacy<4.0.0,>=3.5.0->spacy_transformers) (0.1.4)\n",
      "Requirement already satisfied: colorama in c:\\users\\deene\\appdata\\local\\programs\\python\\python311\\lib\\site-packages (from tqdm<5.0.0,>=4.38.0->spacy<4.0.0,>=3.5.0->spacy_transformers) (0.4.6)\n",
      "Requirement already satisfied: click<9.0.0,>=7.1.1 in c:\\users\\deene\\appdata\\local\\programs\\python\\python311\\lib\\site-packages (from typer<0.10.0,>=0.3.0->spacy<4.0.0,>=3.5.0->spacy_transformers) (8.1.3)\n",
      "Requirement already satisfied: cloudpathlib<0.17.0,>=0.7.0 in c:\\users\\deene\\appdata\\local\\programs\\python\\python311\\lib\\site-packages (from weasel<0.4.0,>=0.1.0->spacy<4.0.0,>=3.5.0->spacy_transformers) (0.16.0)\n",
      "Requirement already satisfied: MarkupSafe>=2.0 in c:\\users\\deene\\appdata\\local\\programs\\python\\python311\\lib\\site-packages (from jinja2->spacy<4.0.0,>=3.5.0->spacy_transformers) (2.1.1)\n",
      "Requirement already satisfied: mpmath>=0.19 in c:\\users\\deene\\appdata\\local\\programs\\python\\python311\\lib\\site-packages (from sympy->torch>=1.8.0->spacy_transformers) (1.3.0)\n"
     ]
    }
   ],
   "source": [
    "!pip install spacy\n",
    "!pip install spacy_transformers"
   ]
  },
  {
   "cell_type": "code",
   "execution_count": null,
   "metadata": {
    "id": "nxwaFGj6nQvt"
   },
   "outputs": [],
   "source": []
  },
  {
   "cell_type": "code",
   "execution_count": 2,
   "metadata": {
    "id": "kwuB_R_immYM"
   },
   "outputs": [],
   "source": [
    "import spacy"
   ]
  },
  {
   "cell_type": "code",
   "execution_count": null,
   "metadata": {
    "colab": {
     "base_uri": "https://localhost:8080/"
    },
    "id": "9wW7Do0Mmt-q",
    "outputId": "cc7ffb51-d6a4-4029-8b79-ff6b33a66a44"
   },
   "outputs": [
    {
     "name": "stderr",
     "output_type": "stream",
     "text": [
      "/usr/local/lib/python3.10/dist-packages/spacy/util.py:910: UserWarning: [W095] Model 'en_pipeline' (0.0.0) was trained with spaCy v3.5.0 and may not be 100% compatible with the current version (3.6.1). If you see errors or degraded performance, download a newer compatible model or retrain your custom model with the current spaCy version. For more details and available updates, run: python -m spacy validate\n",
      "  warnings.warn(warn_msg)\n",
      "/usr/local/lib/python3.10/dist-packages/spacy_transformers/layers/hf_shim.py:137: UserWarning: Error loading saved torch state_dict with strict=True, likely due to differences between 'transformers' versions. Attempting to load with strict=False as a fallback...\n",
      "\n",
      "If you see errors or degraded performance, download a newer compatible model or retrain your custom model with the current 'transformers' and 'spacy-transformers' versions. For more details and available updates, run: python -m spacy validate\n",
      "  warnings.warn(warn_msg)\n"
     ]
    }
   ],
   "source": [
    "nlp = spacy.load('/content/drive/MyDrive/Minor_Project/model/output/model-best')"
   ]
  },
  {
   "cell_type": "code",
   "execution_count": null,
   "metadata": {
    "colab": {
     "base_uri": "https://localhost:8080/"
    },
    "id": "divhEGqym1v9",
    "outputId": "30e97c78-6938-4616-8d9a-87577b00da27"
   },
   "outputs": [
    {
     "name": "stdout",
     "output_type": "stream",
     "text": [
      "Requirement already satisfied: PyMuPDF in /usr/local/lib/python3.10/dist-packages (1.23.12)\n",
      "Requirement already satisfied: PyMuPDFb==1.23.9 in /usr/local/lib/python3.10/dist-packages (from PyMuPDF) (1.23.9)\n"
     ]
    }
   ],
   "source": [
    " !pip install PyMuPDF"
   ]
  },
  {
   "cell_type": "code",
   "execution_count": null,
   "metadata": {
    "id": "CQB0XRVUm_Og"
   },
   "outputs": [],
   "source": [
    "import sys,fitz\n",
    "fname = '/content/drive/MyDrive/Minor_Project/test/testpdf.pdf'\n",
    "doc = fitz.open(fname)"
   ]
  },
  {
   "cell_type": "code",
   "execution_count": null,
   "metadata": {
    "id": "aakHW3MLnClQ"
   },
   "outputs": [],
   "source": [
    "text =\" \"\n",
    "for page in doc:\n",
    "  text = text + str(page.get_text())"
   ]
  },
  {
   "cell_type": "code",
   "execution_count": null,
   "metadata": {
    "colab": {
     "base_uri": "https://localhost:8080/",
     "height": 123
    },
    "id": "4kMDB4--nDDZ",
    "outputId": "d7cbd24f-136d-4e78-9f6c-c608fdba8729"
   },
   "outputs": [
    {
     "data": {
      "application/vnd.google.colaboratory.intrinsic+json": {
       "type": "string"
      },
      "text/plain": [
       "' Akhil Shah \\nContact: www.linkedin.com/in/akhil-shah04(LinkedIn) \\n \\nSummary: Ambitious and results-driven Database Administrator with over 2 years of \\nexperience at TIAA. Skilled in managing Oracle, MongoDB, and Hadoop databases in a \\nclustered multi-tiered environment. Adept at day-to-day production support, \\nbackup/recovery procedures, disaster recovery, and periodic maintenance. Possesses \\nstrong troubleshooting skills and provides 24/7 support for various database servers. \\nExcellent team player with a self-motivated and innovative approach. Open to new \\nchallenges and committed to achieving career goals. \\n \\nSkills: \\n\\uf0b7 \\nProgramming Languages: Java, SQL, C++ \\n\\uf0b7 \\nLanguages: Hindi (Full Professional), Gujarati (Professional Working), Marathi \\n(Professional Working), English (Full Professional), Kutchi (Native or Bilingual) \\n\\uf0b7 \\nCertifications: \\n\\uf0b7 \\nHadoop Foundations - Level 1 \\n\\uf0b7 \\nBig Data Foundations - Level 1 \\n\\uf0b7 \\nLearn ORACLE 12C Complete \\n\\uf0b7 \\nHonors & Awards: \\n\\uf0b7 \\nSecured First Position in School at Inspire Science Camp \\n\\uf0b7 \\nHackathon participation \\n \\n \\nExperience: \\nDatabase Administrator - TIAA July 2021 - Present (1 year 1 month) \\n\\uf0b7 \\nSupport Oracle, MongoDB, and Hadoop databases in a clustered multi-tiered \\nenvironment. \\n\\uf0b7 \\nDay-to-day production support, including checking daily logs, backup/recovery \\nprocedures, disaster recovery, and periodic maintenance. \\n\\uf0b7 \\nProvide 24/7 support for various database servers. \\n\\uf0b7 \\nRespond in a timely manner to all alerts. \\n\\uf0b7 \\nAssist related OCC groups in debugging production issues. \\nTrainee - TIAA July 2020 - Present (2 years 1 month) \\n\\uf0b7 \\n[Include relevant responsibilities and achievements] \\nIntern - TIAA June 2019 - August 2019 (3 months) \\n\\uf0b7 \\nDeveloped 2 Datastore Management Dashboards for effective incident \\nmanagement. \\n\\uf0b7 \\nIntegrated incidents and service requests of Oracle, Hadoop, SQL Server, and \\nMongoDB onto a single dashboard. \\nIntern - MeraEMI.com June 2018 - September 2018 (4 months) \\n\\uf0b7 \\nEnsured technical feasibility of UX/UI designs. \\n\\uf0b7 \\nCreated and maintained documentation of the code. \\n\\uf0b7 \\nMaintained the highest possible customer experience with manual testing. \\nIntern - Centre for Teacher Accreditation (CENTA) March 2018 - June 2018 (4 \\nmonths) \\n\\uf0b7 \\nCollected and analyzed data. \\n\\uf0b7 \\nPrepared materials for submission to granting schools and foundations. \\n\\uf0b7 \\nTraveled to field sites to collect and record data. \\n\\uf0b7 \\nAttended meetings. \\n\\uf0b7 \\nPrepared other articles, reports, and presentations. \\n \\nEducation: \\nBachelor of Engineering (B.E.) - Ramrao Adik Institute of Technology 2016 - 2020 \\nHSC, Computer Science - K J Somaiya College of Science & Commerce Vidyanagar \\n2014 - 2016 \\nSSC - Navodaya English High School 2002 - 2014 \\n \\n'"
      ]
     },
     "execution_count": 14,
     "metadata": {},
     "output_type": "execute_result"
    }
   ],
   "source": [
    "text"
   ]
  },
  {
   "cell_type": "code",
   "execution_count": null,
   "metadata": {
    "colab": {
     "base_uri": "https://localhost:8080/"
    },
    "id": "9jrHDMRhnIri",
    "outputId": "381cee83-b755-4ff2-eb0d-026d2080c040"
   },
   "outputs": [
    {
     "name": "stdout",
     "output_type": "stream",
     "text": [
      "Akhil Shah  ---> NAME\n",
      "www.linkedin.com/in/akhil-shah04(LinkedIn  ---> LINKEDIN LINK\n",
      "Java  ---> SKILLS\n",
      "SQL  ---> SKILLS\n",
      "C++  ---> SKILLS\n",
      "Hindi  ---> LANGUAGE\n",
      "Gujarati  ---> LANGUAGE\n",
      "Marathi  ---> LANGUAGE\n",
      "English  ---> LANGUAGE\n",
      "Kutchi  ---> LANGUAGE\n",
      "Hadoop Foundations - Level 1  ---> CERTIFICATION\n",
      "Big Data Foundations - Level 1  ---> CERTIFICATION\n",
      "Learn ORACLE 12C Complete \n",
      " \n",
      "Honors & Awards: \n",
      " \n",
      "Secured  ---> CERTIFICATION\n",
      "Database Administrator - TIAA July 2021 - Present  ---> WORKED AS\n",
      "1 year 1 month  ---> YEARS OF EXPERIENCE\n",
      "Trainee - TIAA  ---> WORKED AS\n",
      "2 years 1 month  ---> YEARS OF EXPERIENCE\n",
      "Intern - TIAA  ---> WORKED AS\n",
      "3 months  ---> YEARS OF EXPERIENCE\n",
      "Intern - MeraEMI.com  ---> WORKED AS\n",
      "4 months  ---> YEARS OF EXPERIENCE\n",
      "Intern - Centre for Teacher Accreditation  ---> WORKED AS\n",
      "4 \n",
      "months  ---> YEARS OF EXPERIENCE\n",
      "Bachelor of Engineering (B.E.) - Ramrao Adik Institute of Technology 2016 - 2020  ---> DEGREE\n"
     ]
    }
   ],
   "source": [
    "doc= nlp(text)\n",
    "for ent in doc.ents:\n",
    "  print(ent.text,\" --->\",ent.label_)"
   ]
  },
  {
   "cell_type": "code",
   "execution_count": null,
   "metadata": {
    "id": "X-RsGXfWnKzo"
   },
   "outputs": [],
   "source": []
  }
 ],
 "metadata": {
  "colab": {
   "provenance": []
  },
  "kernelspec": {
   "display_name": "Python 3 (ipykernel)",
   "language": "python",
   "name": "python3"
  },
  "language_info": {
   "codemirror_mode": {
    "name": "ipython",
    "version": 3
   },
   "file_extension": ".py",
   "mimetype": "text/x-python",
   "name": "python",
   "nbconvert_exporter": "python",
   "pygments_lexer": "ipython3",
   "version": "3.11.1"
  }
 },
 "nbformat": 4,
 "nbformat_minor": 4
}
