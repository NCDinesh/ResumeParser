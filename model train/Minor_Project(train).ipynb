{
  "cells": [
    {
      "cell_type": "code",
      "execution_count": null,
      "metadata": {
        "id": "IxTQuaup4-QM"
      },
      "outputs": [],
      "source": [
        "from google.colab import drive"
      ]
    },
    {
      "cell_type": "code",
      "execution_count": null,
      "metadata": {
        "colab": {
          "base_uri": "https://localhost:8080/"
        },
        "id": "a7OuQWr35Z6C",
        "outputId": "ba8914c0-b97b-4300-dc61-78bc793753d1"
      },
      "outputs": [
        {
          "name": "stdout",
          "output_type": "stream",
          "text": [
            "Drive already mounted at /content/drive; to attempt to forcibly remount, call drive.mount(\"/content/drive\", force_remount=True).\n"
          ]
        }
      ],
      "source": [
        "drive.mount('/content/drive')"
      ]
    },
    {
      "cell_type": "code",
      "execution_count": null,
      "metadata": {
        "colab": {
          "base_uri": "https://localhost:8080/"
        },
        "id": "90rTfs4wkC-G",
        "outputId": "6772b1b3-82b4-4de0-9dad-97543117825a"
      },
      "outputs": [
        {
          "name": "stdout",
          "output_type": "stream",
          "text": [
            "Requirement already satisfied: spacy in /usr/local/lib/python3.10/dist-packages (3.6.1)\n",
            "Requirement already satisfied: spacy-legacy<3.1.0,>=3.0.11 in /usr/local/lib/python3.10/dist-packages (from spacy) (3.0.12)\n",
            "Requirement already satisfied: spacy-loggers<2.0.0,>=1.0.0 in /usr/local/lib/python3.10/dist-packages (from spacy) (1.0.5)\n",
            "Requirement already satisfied: murmurhash<1.1.0,>=0.28.0 in /usr/local/lib/python3.10/dist-packages (from spacy) (1.0.10)\n",
            "Requirement already satisfied: cymem<2.1.0,>=2.0.2 in /usr/local/lib/python3.10/dist-packages (from spacy) (2.0.8)\n",
            "Requirement already satisfied: preshed<3.1.0,>=3.0.2 in /usr/local/lib/python3.10/dist-packages (from spacy) (3.0.9)\n",
            "Requirement already satisfied: thinc<8.2.0,>=8.1.8 in /usr/local/lib/python3.10/dist-packages (from spacy) (8.1.12)\n",
            "Requirement already satisfied: wasabi<1.2.0,>=0.9.1 in /usr/local/lib/python3.10/dist-packages (from spacy) (1.1.2)\n",
            "Requirement already satisfied: srsly<3.0.0,>=2.4.3 in /usr/local/lib/python3.10/dist-packages (from spacy) (2.4.8)\n",
            "Requirement already satisfied: catalogue<2.1.0,>=2.0.6 in /usr/local/lib/python3.10/dist-packages (from spacy) (2.0.10)\n",
            "Requirement already satisfied: typer<0.10.0,>=0.3.0 in /usr/local/lib/python3.10/dist-packages (from spacy) (0.9.0)\n",
            "Requirement already satisfied: pathy>=0.10.0 in /usr/local/lib/python3.10/dist-packages (from spacy) (0.10.3)\n",
            "Requirement already satisfied: smart-open<7.0.0,>=5.2.1 in /usr/local/lib/python3.10/dist-packages (from spacy) (6.4.0)\n",
            "Requirement already satisfied: tqdm<5.0.0,>=4.38.0 in /usr/local/lib/python3.10/dist-packages (from spacy) (4.66.1)\n",
            "Requirement already satisfied: numpy>=1.15.0 in /usr/local/lib/python3.10/dist-packages (from spacy) (1.23.5)\n",
            "Requirement already satisfied: requests<3.0.0,>=2.13.0 in /usr/local/lib/python3.10/dist-packages (from spacy) (2.31.0)\n",
            "Requirement already satisfied: pydantic!=1.8,!=1.8.1,<3.0.0,>=1.7.4 in /usr/local/lib/python3.10/dist-packages (from spacy) (1.10.13)\n",
            "Requirement already satisfied: jinja2 in /usr/local/lib/python3.10/dist-packages (from spacy) (3.1.2)\n",
            "Requirement already satisfied: setuptools in /usr/local/lib/python3.10/dist-packages (from spacy) (67.7.2)\n",
            "Requirement already satisfied: packaging>=20.0 in /usr/local/lib/python3.10/dist-packages (from spacy) (23.2)\n",
            "Requirement already satisfied: langcodes<4.0.0,>=3.2.0 in /usr/local/lib/python3.10/dist-packages (from spacy) (3.3.0)\n",
            "Requirement already satisfied: typing-extensions>=4.2.0 in /usr/local/lib/python3.10/dist-packages (from pydantic!=1.8,!=1.8.1,<3.0.0,>=1.7.4->spacy) (4.5.0)\n",
            "Requirement already satisfied: charset-normalizer<4,>=2 in /usr/local/lib/python3.10/dist-packages (from requests<3.0.0,>=2.13.0->spacy) (3.3.2)\n",
            "Requirement already satisfied: idna<4,>=2.5 in /usr/local/lib/python3.10/dist-packages (from requests<3.0.0,>=2.13.0->spacy) (3.6)\n",
            "Requirement already satisfied: urllib3<3,>=1.21.1 in /usr/local/lib/python3.10/dist-packages (from requests<3.0.0,>=2.13.0->spacy) (2.0.7)\n",
            "Requirement already satisfied: certifi>=2017.4.17 in /usr/local/lib/python3.10/dist-packages (from requests<3.0.0,>=2.13.0->spacy) (2023.11.17)\n",
            "Requirement already satisfied: blis<0.8.0,>=0.7.8 in /usr/local/lib/python3.10/dist-packages (from thinc<8.2.0,>=8.1.8->spacy) (0.7.11)\n",
            "Requirement already satisfied: confection<1.0.0,>=0.0.1 in /usr/local/lib/python3.10/dist-packages (from thinc<8.2.0,>=8.1.8->spacy) (0.1.4)\n",
            "Requirement already satisfied: click<9.0.0,>=7.1.1 in /usr/local/lib/python3.10/dist-packages (from typer<0.10.0,>=0.3.0->spacy) (8.1.7)\n",
            "Requirement already satisfied: MarkupSafe>=2.0 in /usr/local/lib/python3.10/dist-packages (from jinja2->spacy) (2.1.3)\n",
            "Requirement already satisfied: spacy_transformers in /usr/local/lib/python3.10/dist-packages (1.3.4)\n",
            "Requirement already satisfied: spacy<4.0.0,>=3.5.0 in /usr/local/lib/python3.10/dist-packages (from spacy_transformers) (3.6.1)\n",
            "Requirement already satisfied: transformers<4.37.0,>=3.4.0 in /usr/local/lib/python3.10/dist-packages (from spacy_transformers) (4.35.2)\n",
            "Requirement already satisfied: torch>=1.8.0 in /usr/local/lib/python3.10/dist-packages (from spacy_transformers) (2.1.0+cu121)\n",
            "Requirement already satisfied: srsly<3.0.0,>=2.4.0 in /usr/local/lib/python3.10/dist-packages (from spacy_transformers) (2.4.8)\n",
            "Requirement already satisfied: spacy-alignments<1.0.0,>=0.7.2 in /usr/local/lib/python3.10/dist-packages (from spacy_transformers) (0.9.1)\n",
            "Requirement already satisfied: numpy>=1.19.0 in /usr/local/lib/python3.10/dist-packages (from spacy_transformers) (1.23.5)\n",
            "Requirement already satisfied: spacy-legacy<3.1.0,>=3.0.11 in /usr/local/lib/python3.10/dist-packages (from spacy<4.0.0,>=3.5.0->spacy_transformers) (3.0.12)\n",
            "Requirement already satisfied: spacy-loggers<2.0.0,>=1.0.0 in /usr/local/lib/python3.10/dist-packages (from spacy<4.0.0,>=3.5.0->spacy_transformers) (1.0.5)\n",
            "Requirement already satisfied: murmurhash<1.1.0,>=0.28.0 in /usr/local/lib/python3.10/dist-packages (from spacy<4.0.0,>=3.5.0->spacy_transformers) (1.0.10)\n",
            "Requirement already satisfied: cymem<2.1.0,>=2.0.2 in /usr/local/lib/python3.10/dist-packages (from spacy<4.0.0,>=3.5.0->spacy_transformers) (2.0.8)\n",
            "Requirement already satisfied: preshed<3.1.0,>=3.0.2 in /usr/local/lib/python3.10/dist-packages (from spacy<4.0.0,>=3.5.0->spacy_transformers) (3.0.9)\n",
            "Requirement already satisfied: thinc<8.2.0,>=8.1.8 in /usr/local/lib/python3.10/dist-packages (from spacy<4.0.0,>=3.5.0->spacy_transformers) (8.1.12)\n",
            "Requirement already satisfied: wasabi<1.2.0,>=0.9.1 in /usr/local/lib/python3.10/dist-packages (from spacy<4.0.0,>=3.5.0->spacy_transformers) (1.1.2)\n",
            "Requirement already satisfied: catalogue<2.1.0,>=2.0.6 in /usr/local/lib/python3.10/dist-packages (from spacy<4.0.0,>=3.5.0->spacy_transformers) (2.0.10)\n",
            "Requirement already satisfied: typer<0.10.0,>=0.3.0 in /usr/local/lib/python3.10/dist-packages (from spacy<4.0.0,>=3.5.0->spacy_transformers) (0.9.0)\n",
            "Requirement already satisfied: pathy>=0.10.0 in /usr/local/lib/python3.10/dist-packages (from spacy<4.0.0,>=3.5.0->spacy_transformers) (0.10.3)\n",
            "Requirement already satisfied: smart-open<7.0.0,>=5.2.1 in /usr/local/lib/python3.10/dist-packages (from spacy<4.0.0,>=3.5.0->spacy_transformers) (6.4.0)\n",
            "Requirement already satisfied: tqdm<5.0.0,>=4.38.0 in /usr/local/lib/python3.10/dist-packages (from spacy<4.0.0,>=3.5.0->spacy_transformers) (4.66.1)\n",
            "Requirement already satisfied: requests<3.0.0,>=2.13.0 in /usr/local/lib/python3.10/dist-packages (from spacy<4.0.0,>=3.5.0->spacy_transformers) (2.31.0)\n",
            "Requirement already satisfied: pydantic!=1.8,!=1.8.1,<3.0.0,>=1.7.4 in /usr/local/lib/python3.10/dist-packages (from spacy<4.0.0,>=3.5.0->spacy_transformers) (1.10.13)\n",
            "Requirement already satisfied: jinja2 in /usr/local/lib/python3.10/dist-packages (from spacy<4.0.0,>=3.5.0->spacy_transformers) (3.1.2)\n",
            "Requirement already satisfied: setuptools in /usr/local/lib/python3.10/dist-packages (from spacy<4.0.0,>=3.5.0->spacy_transformers) (67.7.2)\n",
            "Requirement already satisfied: packaging>=20.0 in /usr/local/lib/python3.10/dist-packages (from spacy<4.0.0,>=3.5.0->spacy_transformers) (23.2)\n",
            "Requirement already satisfied: langcodes<4.0.0,>=3.2.0 in /usr/local/lib/python3.10/dist-packages (from spacy<4.0.0,>=3.5.0->spacy_transformers) (3.3.0)\n",
            "Requirement already satisfied: filelock in /usr/local/lib/python3.10/dist-packages (from torch>=1.8.0->spacy_transformers) (3.13.1)\n",
            "Requirement already satisfied: typing-extensions in /usr/local/lib/python3.10/dist-packages (from torch>=1.8.0->spacy_transformers) (4.5.0)\n",
            "Requirement already satisfied: sympy in /usr/local/lib/python3.10/dist-packages (from torch>=1.8.0->spacy_transformers) (1.12)\n",
            "Requirement already satisfied: networkx in /usr/local/lib/python3.10/dist-packages (from torch>=1.8.0->spacy_transformers) (3.2.1)\n",
            "Requirement already satisfied: fsspec in /usr/local/lib/python3.10/dist-packages (from torch>=1.8.0->spacy_transformers) (2023.6.0)\n",
            "Requirement already satisfied: triton==2.1.0 in /usr/local/lib/python3.10/dist-packages (from torch>=1.8.0->spacy_transformers) (2.1.0)\n",
            "Requirement already satisfied: huggingface-hub<1.0,>=0.16.4 in /usr/local/lib/python3.10/dist-packages (from transformers<4.37.0,>=3.4.0->spacy_transformers) (0.20.2)\n",
            "Requirement already satisfied: pyyaml>=5.1 in /usr/local/lib/python3.10/dist-packages (from transformers<4.37.0,>=3.4.0->spacy_transformers) (6.0.1)\n",
            "Requirement already satisfied: regex!=2019.12.17 in /usr/local/lib/python3.10/dist-packages (from transformers<4.37.0,>=3.4.0->spacy_transformers) (2023.6.3)\n",
            "Requirement already satisfied: tokenizers<0.19,>=0.14 in /usr/local/lib/python3.10/dist-packages (from transformers<4.37.0,>=3.4.0->spacy_transformers) (0.15.0)\n",
            "Requirement already satisfied: safetensors>=0.3.1 in /usr/local/lib/python3.10/dist-packages (from transformers<4.37.0,>=3.4.0->spacy_transformers) (0.4.1)\n",
            "Requirement already satisfied: charset-normalizer<4,>=2 in /usr/local/lib/python3.10/dist-packages (from requests<3.0.0,>=2.13.0->spacy<4.0.0,>=3.5.0->spacy_transformers) (3.3.2)\n",
            "Requirement already satisfied: idna<4,>=2.5 in /usr/local/lib/python3.10/dist-packages (from requests<3.0.0,>=2.13.0->spacy<4.0.0,>=3.5.0->spacy_transformers) (3.6)\n",
            "Requirement already satisfied: urllib3<3,>=1.21.1 in /usr/local/lib/python3.10/dist-packages (from requests<3.0.0,>=2.13.0->spacy<4.0.0,>=3.5.0->spacy_transformers) (2.0.7)\n",
            "Requirement already satisfied: certifi>=2017.4.17 in /usr/local/lib/python3.10/dist-packages (from requests<3.0.0,>=2.13.0->spacy<4.0.0,>=3.5.0->spacy_transformers) (2023.11.17)\n",
            "Requirement already satisfied: blis<0.8.0,>=0.7.8 in /usr/local/lib/python3.10/dist-packages (from thinc<8.2.0,>=8.1.8->spacy<4.0.0,>=3.5.0->spacy_transformers) (0.7.11)\n",
            "Requirement already satisfied: confection<1.0.0,>=0.0.1 in /usr/local/lib/python3.10/dist-packages (from thinc<8.2.0,>=8.1.8->spacy<4.0.0,>=3.5.0->spacy_transformers) (0.1.4)\n",
            "Requirement already satisfied: click<9.0.0,>=7.1.1 in /usr/local/lib/python3.10/dist-packages (from typer<0.10.0,>=0.3.0->spacy<4.0.0,>=3.5.0->spacy_transformers) (8.1.7)\n",
            "Requirement already satisfied: MarkupSafe>=2.0 in /usr/local/lib/python3.10/dist-packages (from jinja2->spacy<4.0.0,>=3.5.0->spacy_transformers) (2.1.3)\n",
            "Requirement already satisfied: mpmath>=0.19 in /usr/local/lib/python3.10/dist-packages (from sympy->torch>=1.8.0->spacy_transformers) (1.3.0)\n"
          ]
        }
      ],
      "source": [
        "!pip install spacy\n",
        "!pip install spacy_transformers"
      ]
    },
    {
      "cell_type": "code",
      "execution_count": 1,
      "metadata": {
        "id": "Noi1ysh75esR"
      },
      "outputs": [],
      "source": [
        "import spacy"
      ]
    },
    {
      "cell_type": "code",
      "execution_count": 3,
      "metadata": {
        "id": "Bb_6hJeU6EDL"
      },
      "outputs": [],
      "source": [
        "from spacy.tokens import DocBin\n",
        "from tqdm import tqdm\n",
        "import json\n"
      ]
    },
    {
      "cell_type": "code",
      "execution_count": null,
      "metadata": {
        "colab": {
          "base_uri": "https://localhost:8080/"
        },
        "id": "no51xQQk6GcG",
        "outputId": "60032dfd-c035-4407-9dfc-610c2d9577ab"
      },
      "outputs": [
        {
          "name": "stdout",
          "output_type": "stream",
          "text": [
            "Sun Jan 14 04:10:36 2024       \n",
            "+---------------------------------------------------------------------------------------+\n",
            "| NVIDIA-SMI 535.104.05             Driver Version: 535.104.05   CUDA Version: 12.2     |\n",
            "|-----------------------------------------+----------------------+----------------------+\n",
            "| GPU  Name                 Persistence-M | Bus-Id        Disp.A | Volatile Uncorr. ECC |\n",
            "| Fan  Temp   Perf          Pwr:Usage/Cap |         Memory-Usage | GPU-Util  Compute M. |\n",
            "|                                         |                      |               MIG M. |\n",
            "|=========================================+======================+======================|\n",
            "|   0  Tesla T4                       Off | 00000000:00:04.0 Off |                    0 |\n",
            "| N/A   40C    P8               9W /  70W |      3MiB / 15360MiB |      0%      Default |\n",
            "|                                         |                      |                  N/A |\n",
            "+-----------------------------------------+----------------------+----------------------+\n",
            "                                                                                         \n",
            "+---------------------------------------------------------------------------------------+\n",
            "| Processes:                                                                            |\n",
            "|  GPU   GI   CI        PID   Type   Process name                            GPU Memory |\n",
            "|        ID   ID                                                             Usage      |\n",
            "|=======================================================================================|\n",
            "|  No running processes found                                                           |\n",
            "+---------------------------------------------------------------------------------------+\n"
          ]
        }
      ],
      "source": [
        "!nvidia-smi"
      ]
    },
    {
      "cell_type": "code",
      "execution_count": 7,
      "metadata": {
        "id": "0QbHliPB6ISZ"
      },
      "outputs": [],
      "source": [
        "# cv_data = json.load(open('/content/drive/MyDrive/Minor_Project/dataset/dataset.json'))\n",
        "cv_data = json.load(open(r'C:\\Users\\deene\\OneDrive\\Documents\\Minor_Project\\dataset\\dataset.json'))\n",
        "\n",
        "\n"
      ]
    },
    {
      "cell_type": "code",
      "execution_count": 8,
      "metadata": {
        "colab": {
          "base_uri": "https://localhost:8080/"
        },
        "id": "Jjvskse66LjT",
        "outputId": "d730a4e3-fca0-43d6-e400-2423bcaf15ef"
      },
      "outputs": [
        {
          "data": {
            "text/plain": [
              "1010"
            ]
          },
          "execution_count": 8,
          "metadata": {},
          "output_type": "execute_result"
        }
      ],
      "source": [
        "len(cv_data)"
      ]
    },
    {
      "cell_type": "code",
      "execution_count": 9,
      "metadata": {
        "colab": {
          "base_uri": "https://localhost:8080/"
        },
        "id": "qFycq_7E6xEN",
        "outputId": "b0493212-f067-4888-9fcc-dd922bb467d2"
      },
      "outputs": [
        {
          "data": {
            "text/plain": [
              "['\\xa0 \\xa0\\nContact\\nwww.linkedin.com/in/omjagri\\n(LinkedIn)\\nTop Skills\\nphp\\nMySQL\\nJavaScript\\nCertifications\\nPhp & Js Om Prakash Jagri\\nFull Stack Developer | PHP | Laravel | Vue Js\\nKathmandu, Bāgmatī, Nepal\\nSummary\\nExperienced Developer with a demonstrated history of working in\\nthe information technology and services industry. Skilled in Laravel,\\nPHP, Cascading Style Sheets (CSS), JavaScript, vue js and MySQL.\\nStrong engineering professional with a B.sc.CSIT(Bachelors of\\nScience in Computer Science and Information Technology) focused\\nin Computer Science from Tribhuvan University, Institute of Science\\n& Tchnology. \\nExperience\\nSearchable Design LLC\\nSoftware Developer\\nJune 2021\\xa0-\\xa0Present\\xa0 (1 year 7 months)\\nNepal\\nFull Stack Developer Laravel with Vue Js\\nBenekiva\\nTechnical Documentation\\nSeptember 2021\\xa0-\\xa0Present\\xa0 (1 year 4 months)\\nUnited States\\nBidhee\\n3 years 9 months\\nLaravel Developer\\nMarch 2018\\xa0-\\xa0May 2021\\xa0 (3 years 3 months)\\nBaneswar Kathamandu\\nInternship\\nSeptember 2017\\xa0-\\xa0February 2018\\xa0 (6 months)\\nKathamandu Nepal\\nWeb Development in PHP/JS With Laravel Framework \\nEducation\\n\\xa0 Page 1 of 2\\xa0 \\xa0\\nSiddhanath Science Campus Mahendranagar\\nB.sc.CSIT(Bachelors of Science in Computer Science and Information\\nTechnology),\\xa0Computer Science \\xa0·\\xa0(2013\\xa0-\\xa02018)\\n\\xa0 Page 2 of 2',\n",
              " {'entities': [[12, 39, 'LINKEDIN LINK'],\n",
              "   [62, 65, 'SKILLS'],\n",
              "   [66, 71, 'SKILLS'],\n",
              "   [72, 82, 'SKILLS'],\n",
              "   [98, 106, 'CERTIFICATION'],\n",
              "   [107, 123, 'NAME'],\n",
              "   [147, 150, 'SKILLS'],\n",
              "   [153, 160, 'SKILLS'],\n",
              "   [163, 169, 'SKILLS'],\n",
              "   [170, 195, 'LOCATION'],\n",
              "   [622, 643, 'COMPANIES WORKED AT'],\n",
              "   [644, 662, 'WORKED AS'],\n",
              "   [685, 700, 'YEARS OF EXPERIENCE'],\n",
              "   [749, 757, 'COMPANIES WORKED AT'],\n",
              "   [758, 781, 'WORKED AS'],\n",
              "   [809, 824, 'YEARS OF EXPERIENCE'],\n",
              "   [840, 846, 'COMPANIES WORKED AT'],\n",
              "   [864, 881, 'WORKED AS'],\n",
              "   [906, 922, 'YEARS OF EXPERIENCE'],\n",
              "   [944, 954, 'WORKED AS'],\n",
              "   [988, 996, 'YEARS OF EXPERIENCE'],\n",
              "   [1092, 1131, 'COLLEGE NAME'],\n",
              "   [1132, 1228, 'DEGREE']]}]"
            ]
          },
          "execution_count": 9,
          "metadata": {},
          "output_type": "execute_result"
        }
      ],
      "source": [
        "cv_data[0]"
      ]
    },
    {
      "cell_type": "code",
      "execution_count": null,
      "metadata": {
        "colab": {
          "base_uri": "https://localhost:8080/"
        },
        "id": "XNWOhbo8gNu6",
        "outputId": "7dcfad5b-e962-4e51-d067-3fdc8dfe3214"
      },
      "outputs": [
        {
          "name": "stdout",
          "output_type": "stream",
          "text": [
            "2024-01-14 04:10:47.605676: E external/local_xla/xla/stream_executor/cuda/cuda_dnn.cc:9261] Unable to register cuDNN factory: Attempting to register factory for plugin cuDNN when one has already been registered\n",
            "2024-01-14 04:10:47.605737: E external/local_xla/xla/stream_executor/cuda/cuda_fft.cc:607] Unable to register cuFFT factory: Attempting to register factory for plugin cuFFT when one has already been registered\n",
            "2024-01-14 04:10:47.607334: E external/local_xla/xla/stream_executor/cuda/cuda_blas.cc:1515] Unable to register cuBLAS factory: Attempting to register factory for plugin cuBLAS when one has already been registered\n",
            "2024-01-14 04:10:49.030556: W tensorflow/compiler/tf2tensorrt/utils/py_utils.cc:38] TF-TRT Warning: Could not find TensorRT\n",
            "\u001b[38;5;2m✔ Auto-filled config with all values\u001b[0m\n",
            "\u001b[38;5;2m✔ Saved config\u001b[0m\n",
            "/content/drive/MyDrive/Minor_Project/config/config.cfg\n",
            "You can now add your data and train your pipeline:\n",
            "python -m spacy train config.cfg --paths.train ./train.spacy --paths.dev ./dev.spacy\n"
          ]
        }
      ],
      "source": [
        " !python -m spacy init fill-config /content/drive/MyDrive/Minor_Project/config/base_config.cfg /content/drive/MyDrive/Minor_Project/config/config.cfg"
      ]
    },
    {
      "cell_type": "code",
      "execution_count": null,
      "metadata": {
        "id": "JXG3eYG567ZV"
      },
      "outputs": [],
      "source": [
        "# def get_spacy_doc(file,data):\n",
        "#     nlp=spacy.blank(\"en\")\n",
        "#     db=DocBin()\n",
        "\n",
        "#     for text, annot in tqdm(data):\n",
        "#         doc=nlp.make_doc(text)\n",
        "#         annot = annot[\"entities\"]\n",
        "\n",
        "#         ents=[]\n",
        "#         entity_indices=[]\n",
        "#         for start,end,label in annot:\n",
        "#             skip_entity=False\n",
        "#             for idx in range(start,end):\n",
        "#                 if idx in entity_indices:\n",
        "#                     skip_entity=True\n",
        "#                     break\n",
        "#             if skip_entity==True:\n",
        "#                 continue\n",
        "#             entity_indices = entity_indices+list(range(start,end))\n",
        "\n",
        "#             try:\n",
        "#                 span = doc.char_span(start,end,label=label , alignment =\"strict\")\n",
        "#             except:\n",
        "#                 continue\n",
        "#             if span is None:\n",
        "#                 err_data= str([start,end]) + \"   \"+str(text) + \"\\n\"\n",
        "#                 file.write(err_data)\n",
        "#             else:\n",
        "#                 ents.append(span)\n",
        "#         try:\n",
        "#             doc.ents = ents\n",
        "#             db.add(doc)\n",
        "#         except:\n",
        "#             pass\n",
        "#     return db"
      ]
    },
    {
      "cell_type": "code",
      "execution_count": null,
      "metadata": {
        "id": "06jpCEY5X5bH"
      },
      "outputs": [],
      "source": [
        "def get_spacy_doc(file, data):\n",
        "    nlp = spacy.blank(\"en\")\n",
        "    db = DocBin()\n",
        "\n",
        "    for text, annot in tqdm(data):\n",
        "        doc = nlp.make_doc(text)\n",
        "        annot = annot[\"entities\"]\n",
        "\n",
        "        ents = []\n",
        "        entity_indices = []\n",
        "        for start, end, label in annot:\n",
        "            skip_entity = False\n",
        "            for idx in range(start, end):\n",
        "                if idx in entity_indices:\n",
        "                    skip_entity = True\n",
        "                    break\n",
        "            if skip_entity:\n",
        "                continue\n",
        "            entity_indices += list(range(start, end))\n",
        "\n",
        "            try:\n",
        "                span = doc.char_span(start, end, label=label)\n",
        "            except ValueError:\n",
        "                continue\n",
        "            if span is None:\n",
        "                err_data = str([start, end]) + \"   \" + str(text) + \"\\n\"\n",
        "                file.write(err_data)\n",
        "            else:\n",
        "                ents.append(span)\n",
        "        try:\n",
        "            doc.ents = ents\n",
        "            db.add(doc)\n",
        "        except ValueError:\n",
        "            pass\n",
        "    return db\n"
      ]
    },
    {
      "cell_type": "code",
      "execution_count": null,
      "metadata": {
        "id": "QJwcQJgT7BVt"
      },
      "outputs": [],
      "source": [
        "from sklearn.model_selection import train_test_split\n",
        "train, test = train_test_split(cv_data, test_size = 0.2, random_state=42)"
      ]
    },
    {
      "cell_type": "code",
      "execution_count": null,
      "metadata": {
        "colab": {
          "base_uri": "https://localhost:8080/"
        },
        "id": "-CC_TilE7GAo",
        "outputId": "d4f8fa19-0d1e-409c-c8fc-b198ac1d6547"
      },
      "outputs": [
        {
          "data": {
            "text/plain": [
              "(811, 203)"
            ]
          },
          "execution_count": 14,
          "metadata": {},
          "output_type": "execute_result"
        }
      ],
      "source": [
        "len(train),len(test)"
      ]
    },
    {
      "cell_type": "code",
      "execution_count": null,
      "metadata": {
        "colab": {
          "base_uri": "https://localhost:8080/"
        },
        "id": "Lv-J9Y_O7IHV",
        "outputId": "44ec16ea-1fc8-41ad-8a50-2cdd4fcd9b75"
      },
      "outputs": [
        {
          "name": "stderr",
          "output_type": "stream",
          "text": [
            "100%|██████████| 811/811 [00:07<00:00, 106.34it/s]\n",
            "100%|██████████| 203/203 [00:01<00:00, 122.89it/s]\n"
          ]
        }
      ],
      "source": [
        "file_train = open('/content/drive/MyDrive/Minor_Project/model/train_file.txt', 'w')\n",
        "db_train = get_spacy_doc(file_train, train)\n",
        "db_train.to_disk('/content/drive/MyDrive/Minor_Project/model/train_data.spacy')\n",
        "file_train.close()\n",
        "\n",
        "file_test = open('/content/drive/MyDrive/Minor_Project/model/test_file.txt', 'w')\n",
        "db_test = get_spacy_doc(file_test, test)\n",
        "db_test.to_disk('/content/drive/MyDrive/Minor_Project/model/test_data.spacy')\n",
        "file_test.close()\n"
      ]
    },
    {
      "cell_type": "code",
      "execution_count": null,
      "metadata": {
        "colab": {
          "base_uri": "https://localhost:8080/"
        },
        "id": "M7CNX5Ce7LTK",
        "outputId": "954f4e28-8c73-4a2e-ad49-1e88f586c785"
      },
      "outputs": [
        {
          "name": "stdout",
          "output_type": "stream",
          "text": [
            "2024-01-14 04:11:08.169600: E external/local_xla/xla/stream_executor/cuda/cuda_dnn.cc:9261] Unable to register cuDNN factory: Attempting to register factory for plugin cuDNN when one has already been registered\n",
            "2024-01-14 04:11:08.169656: E external/local_xla/xla/stream_executor/cuda/cuda_fft.cc:607] Unable to register cuFFT factory: Attempting to register factory for plugin cuFFT when one has already been registered\n",
            "2024-01-14 04:11:08.170943: E external/local_xla/xla/stream_executor/cuda/cuda_blas.cc:1515] Unable to register cuBLAS factory: Attempting to register factory for plugin cuBLAS when one has already been registered\n",
            "2024-01-14 04:11:09.273437: W tensorflow/compiler/tf2tensorrt/utils/py_utils.cc:38] TF-TRT Warning: Could not find TensorRT\n",
            "\u001b[38;5;4mℹ Saving to output directory:\n",
            "/content/drive/MyDrive/Minor_Project/model/output80\u001b[0m\n",
            "\u001b[38;5;4mℹ Using GPU: 0\u001b[0m\n",
            "\u001b[1m\n",
            "=========================== Initializing pipeline ===========================\u001b[0m\n",
            "Some weights of RobertaModel were not initialized from the model checkpoint at roberta-base and are newly initialized: ['roberta.pooler.dense.weight', 'roberta.pooler.dense.bias']\n",
            "You should probably TRAIN this model on a down-stream task to be able to use it for predictions and inference.\n",
            "\u001b[38;5;2m✔ Initialized pipeline\u001b[0m\n",
            "\u001b[1m\n",
            "============================= Training pipeline =============================\u001b[0m\n",
            "\u001b[38;5;4mℹ Pipeline: ['transformer', 'ner']\u001b[0m\n",
            "\u001b[38;5;4mℹ Initial learn rate: 0.0\u001b[0m\n",
            "E    #       LOSS TRANS...  LOSS NER  ENTS_F  ENTS_P  ENTS_R  SCORE \n",
            "---  ------  -------------  --------  ------  ------  ------  ------\n",
            "  0       0        1342.49   2101.80    0.01    0.00    0.06    0.00\n",
            "  0     200      482595.27  94257.36   24.01   28.25   20.88    0.24\n",
            "  1     400      203393.77  34834.73   52.91   55.98   50.15    0.53\n",
            "  2     600      135038.13  21424.75   79.90   78.75   81.09    0.80\n",
            "  3     800       32785.07  11615.36   84.00   83.49   84.51    0.84\n",
            "  4    1000       11070.56   9241.50   84.95   83.50   86.46    0.85\n",
            "  5    1200       10422.77   8705.23   83.98   82.24   85.78    0.84\n",
            "  6    1400        5008.43   7144.90   82.53   77.49   88.28    0.83\n",
            "  7    1600        4556.06   6472.63   84.65   86.03   83.30    0.85\n",
            "  8    1800        4549.00   6185.89   85.60   83.54   87.77    0.86\n",
            "  9    2000        5277.27   5787.88   86.06   83.95   88.28    0.86\n",
            " 10    2200       12698.47   5609.60   85.97   84.49   87.50    0.86\n",
            " 11    2400        5596.82   5066.86   86.07   84.85   87.32    0.86\n",
            " 12    2600        7479.11   5399.23   86.08   84.94   87.26    0.86\n",
            " 13    2800        5401.99   4660.32   86.20   86.44   85.97    0.86\n",
            " 14    3000       12902.83   4873.19   86.15   85.26   87.07    0.86\n",
            " 15    3200       12356.42   4513.40   86.57   84.69   88.53    0.87\n",
            " 16    3400        8040.66   4179.62   85.83   83.61   88.18    0.86\n",
            " 17    3600       57388.98   4176.85   85.03   82.18   88.08    0.85\n",
            " 18    3800        4355.87   4079.60   85.57   82.83   88.49    0.86\n",
            " 19    4000        4893.12   3814.27   85.63   85.06   86.21    0.86\n",
            " 20    4200        3499.29   3778.46   85.67   83.41   88.06    0.86\n",
            " 21    4400       28099.55   3725.69   85.52   82.95   88.24    0.86\n",
            " 22    4600        2946.91   3408.45   86.85   85.15   88.61    0.87\n",
            " 23    4800       29417.27   3857.22   85.67   83.15   88.34    0.86\n",
            " 24    5000        7333.70   3445.15   85.89   83.27   88.69    0.86\n",
            " 25    5200       11685.69   3392.87   85.78   83.19   88.53    0.86\n",
            " 26    5400        5450.54   3271.71   85.27   82.65   88.06    0.85\n",
            " 27    5600       23598.55   3500.59   85.81   83.74   87.99    0.86\n",
            " 28    5800       35176.91   3204.67   85.85   84.36   87.40    0.86\n",
            " 29    6000        4442.82   2968.92   85.93   83.70   88.28    0.86\n",
            " 30    6200        7177.33   2942.57   86.22   84.10   88.44    0.86\n",
            "\u001b[38;5;2m✔ Saved pipeline to output directory\u001b[0m\n",
            "/content/drive/MyDrive/Minor_Project/model/output80/model-last\n"
          ]
        }
      ],
      "source": [
        "!python -m spacy train /content/drive/MyDrive/Minor_Project/config/config.cfg --output /content/drive/MyDrive/Minor_Project/model/output80 --paths.train /content/drive/MyDrive/Minor_Project/model/train_data.spacy --paths.dev /content/drive/MyDrive/Minor_Project/model/test_data.spacy --gpu-id 0"
      ]
    },
    {
      "cell_type": "code",
      "execution_count": null,
      "metadata": {
        "id": "_6MjchE47QEy"
      },
      "outputs": [],
      "source": [
        "nlp = spacy.load('/content/drive/MyDrive/Minor_Project/model/output/model-best')"
      ]
    },
    {
      "cell_type": "code",
      "execution_count": null,
      "metadata": {
        "colab": {
          "base_uri": "https://localhost:8080/"
        },
        "id": "oSr6VP8JAhjW",
        "outputId": "8fd44d86-f3e6-4cf8-d7d0-8982b6a6d3a6"
      },
      "outputs": [
        {
          "name": "stdout",
          "output_type": "stream",
          "text": [
            "Requirement already satisfied: PyMuPDF in /usr/local/lib/python3.10/dist-packages (1.23.12)\n",
            "Requirement already satisfied: PyMuPDFb==1.23.9 in /usr/local/lib/python3.10/dist-packages (from PyMuPDF) (1.23.9)\n"
          ]
        }
      ],
      "source": [
        " !pip install PyMuPDF"
      ]
    },
    {
      "cell_type": "code",
      "execution_count": null,
      "metadata": {
        "id": "2Quwdm5RDCTJ"
      },
      "outputs": [],
      "source": [
        "import sys,fitz\n",
        "fname = '/content/drive/MyDrive/Minor_Project/test/test2.pdf'\n",
        "doc = fitz.open(fname)"
      ]
    },
    {
      "cell_type": "code",
      "execution_count": null,
      "metadata": {
        "id": "cdH9Sg4VEmK_"
      },
      "outputs": [],
      "source": [
        "text =\" \"\n",
        "for page in doc:\n",
        "  text = text + str(page.get_text())\n"
      ]
    },
    {
      "cell_type": "code",
      "execution_count": null,
      "metadata": {
        "colab": {
          "base_uri": "https://localhost:8080/",
          "height": 123
        },
        "id": "6qUT_hbVFIsu",
        "outputId": "fbf633c6-cf05-42c1-e625-8939ab89e3cd"
      },
      "outputs": [
        {
          "data": {
            "application/vnd.google.colaboratory.intrinsic+json": {
              "type": "string"
            },
            "text/plain": [
              "' John Doe \\n123 Main Street, Cityville, State 12345 \\njohn.doe@email.com | (555) 123-4567 \\n \\nObjective: \\nEnthusiastic and skilled Full Stack Developer with a passion for creating efficient and scalable web \\napplications. Adept at both front-end and back-end development, with a strong foundation in various \\nprogramming languages and frameworks. Seeking a challenging role to contribute technical expertise \\nand creativity to innovative projects. \\n \\nEducation: \\nBachelor of Science in Computer Science \\nTech University, Cityville, State \\nSeptember 2018 - May 2022 \\n \\nSkills: \\n \\n**Programming Languages:** \\n- JavaScript (Node.js, React.js) \\n- HTML5, CSS3, SASS/LESS \\n- Python (Django, Flask) \\n \\n**Database Systems:** \\n- MySQL, PostgreSQL, MongoDB \\n \\n**Server Management:** \\n- AWS, Heroku \\n \\n**Version Control:** \\n- Git, GitHub \\n \\n**Development Tools:** \\n- Visual Studio Code, Sublime Text, Atom \\n \\n**Web Development:** \\n- Responsive Web Design \\n- RESTful API Development \\n \\n**Other Skills:** \\n- Agile/Scrum methodologies \\n- Cross-browser compatibility \\n- Test-driven development (TDD) \\n- Continuous integration and deployment (CI/CD) \\n \\nExperience: \\n \\n**Full Stack Developer | XYZ Tech Solutions, Cityville | June 2022 - Present:** \\n- Developed and maintained scalable web applications using the MERN (MongoDB, Express.js, React.js, \\nNode.js) stack. \\n- Collaborated with cross-functional teams to design, implement, and deploy features within project \\ntimelines. \\n- Integrated third-party APIs to enhance functionality and user experience. \\n- Implemented responsive design principles to ensure optimal user experience across various devices. \\n \\n**Junior Full Stack Developer | ABC Software, Townsville | August 2020 - May 2022:** \\n- Worked on the development and maintenance of web applications using Python (Django) and front-\\nend technologies. \\n- Collaborated with UI/UX designers to implement visually appealing and user-friendly interfaces. \\n- Conducted code reviews and participated in the implementation of best coding practices. \\n- Assisted in troubleshooting and resolving issues to ensure optimal system performance. \\n \\nProjects: \\n \\n**E-commerce Platform | July 2021 - December 2021:** \\n- Developed a full-fledged e-commerce platform with features such as product catalog, shopping cart, \\nand secure payment processing. \\n- Implemented user authentication and authorization using JWT for enhanced security. \\n- Integrated various payment gateways to facilitate seamless transactions. \\n \\n**Task Management App | January 2021 - May 2021:** \\n- Led the development of a task management application using the MEAN (MongoDB, Express.js, \\nAngular, Node.js) stack. \\n- Implemented real-time updates using WebSockets for collaborative task tracking. \\n- Utilized Agile methodologies for project management, ensuring timely delivery of features. \\n \\nCertifications: \\n \\n- Full Stack Web Development Certification | Tech University, 2022 \\n- AWS Certified Developer – Associate | 2023 \\n \\nReferences: \\nAvailable upon request. \\n'"
            ]
          },
          "execution_count": 46,
          "metadata": {},
          "output_type": "execute_result"
        }
      ],
      "source": [
        "text"
      ]
    },
    {
      "cell_type": "code",
      "execution_count": null,
      "metadata": {
        "colab": {
          "base_uri": "https://localhost:8080/"
        },
        "id": "acWMykTlFix1",
        "outputId": "8acf57d9-393e-40d7-d828-f533f64185d0"
      },
      "outputs": [
        {
          "name": "stdout",
          "output_type": "stream",
          "text": [
            "John Doe  ---> NAME\n",
            "john.doe@email.com  ---> EMAIL ADDRESS\n",
            "Bachelor of Science in Computer Science  ---> DEGREE\n",
            "Tech University, Cityville, State  ---> UNIVERSITY\n",
            "HTML5  ---> SKILLS\n",
            "CSS3  ---> SKILLS\n",
            "SASS/LESS  ---> SKILLS\n",
            "Junior Full Stack Developer  ---> WORKED AS\n",
            "Task Management App | January 2021 - May 2021:** \n",
            "- Led the development of a task management application using the MEAN (MongoDB, Express.js, \n",
            "Angular, Node.js) stack. \n",
            "- Implemented real-time updates using WebSockets for collaborative task tracking. \n",
            "- Utilized Agile methodologies for project management, ensuring timely delivery of features. \n",
            " \n",
            "Certifications: \n",
            " \n",
            "- Full Stack Web Development Certification | Tech University, 2022 \n",
            "- AWS Certified Developer – Associate | 2023 \n",
            " \n",
            "References: \n",
            "Available upon request. \n",
            "  ---> WORKED AS\n"
          ]
        }
      ],
      "source": [
        "doc= nlp(text)\n",
        "for ent in doc.ents:\n",
        "  print(ent.text,\" --->\",ent.label_)"
      ]
    },
    {
      "cell_type": "code",
      "execution_count": null,
      "metadata": {
        "id": "pfdImcOf6KzP"
      },
      "outputs": [],
      "source": []
    },
    {
      "cell_type": "code",
      "execution_count": null,
      "metadata": {
        "id": "v7UN-vSzPt1H"
      },
      "outputs": [],
      "source": []
    }
  ],
  "metadata": {
    "accelerator": "GPU",
    "colab": {
      "gpuType": "T4",
      "provenance": []
    },
    "kernelspec": {
      "display_name": "Python 3",
      "name": "python3"
    },
    "language_info": {
      "codemirror_mode": {
        "name": "ipython",
        "version": 3
      },
      "file_extension": ".py",
      "mimetype": "text/x-python",
      "name": "python",
      "nbconvert_exporter": "python",
      "pygments_lexer": "ipython3",
      "version": "3.11.5"
    }
  },
  "nbformat": 4,
  "nbformat_minor": 0
}
